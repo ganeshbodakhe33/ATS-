{
 "cells": [
  {
   "cell_type": "code",
   "execution_count": 18,
   "id": "9bd7d393",
   "metadata": {},
   "outputs": [],
   "source": [
    "# Ganesh Bodakhe\n",
    "import tkinter as tk\n",
    "from tkinter import ttk, filedialog, messagebox\n",
    "from PyPDF2 import PdfReader\n",
    "\n",
    "# Keywords to check in the resume\n",
    "keywords = [\"C++\", \"Python\", \"Java\", \"JavaScript\", \"HTML\", \"CSS\", \"SQL\", \"Ruby\", \"PHP\", \n",
    "            \"Swift\", \"Kotlin\", \"Go\", \"R\", \"MATLAB\", \"Perl\", \"Scala\", \"Rust\", \n",
    "            \"TypeScript\", \"Bash\", \"PowerShell\"]\n",
    "\n",
    "def upload_resume():\n",
    "    file_path = filedialog.askopenfilename(filetypes=[(\"PDF files\", \"*.pdf\")])\n",
    "    if file_path:\n",
    "        try:\n",
    "            score = calculate_score(file_path)\n",
    "            score_display.config(text=f\"Score: {score}%\")\n",
    "        except Exception as e:\n",
    "            messagebox.showerror(\"Error\", f\"Failed to calculate score: {e}\")\n",
    "\n",
    "def calculate_score(file_path):\n",
    "    try:\n",
    "        pdf = PdfReader(file_path)\n",
    "        text = \"\".join(page.extract_text() for page in pdf.pages)\n",
    "        found_keywords = sum(keyword.lower() in text.lower() for keyword in keywords)\n",
    "        score_percentage = (found_keywords / len(keywords)) * 100\n",
    "        return round(score_percentage, 2)\n",
    "    except Exception as e:\n",
    "        messagebox.showerror(\"Error\", f\"Failed to read PDF file: {e}\")\n",
    "\n",
    "# Create the main application window\n",
    "root = tk.Tk()\n",
    "root.title(\"ATS Application\")\n",
    "root.geometry(\"400x500\")\n",
    "# Resume Upload Section\n",
    "upload_frame = ttk.Frame(root, padding=10)\n",
    "upload_frame.pack(padx=10, pady=10, fill=tk.BOTH)\n",
    "\n",
    "upload_label = ttk.Label(upload_frame, text=\"Upload Resume (PDF)\", font=(\"Helvetica\", 14, \"bold\"))\n",
    "upload_label.pack(pady=10)\n",
    "\n",
    "upload_button = ttk.Button(upload_frame, text=\"Choose File\", command=upload_resume)\n",
    "upload_button.pack(pady=10)\n",
    "\n",
    "# Display Score Section\n",
    "score_frame = ttk.Frame(root, padding=10)\n",
    "score_frame.pack(padx=10, pady=10, fill=tk.BOTH)\n",
    "\n",
    "score_label = ttk.Label(score_frame, text=\"Your Score\", font=(\"Helvetica\", 14, \"bold\"))\n",
    "score_label.pack(pady=10)\n",
    "\n",
    "score_display = ttk.Label(score_frame, text=\"Score: 0%\", font=(\"Helvetica\", 24, \"bold\"), foreground=\"green\")\n",
    "score_display.pack(pady=10)\n",
    "\n",
    "# Start the application main loop\n",
    "root.mainloop()\n"
   ]
  }
 ],
 "metadata": {
  "kernelspec": {
   "display_name": "Python 3 (ipykernel)",
   "language": "python",
   "name": "python3"
  },
  "language_info": {
   "codemirror_mode": {
    "name": "ipython",
    "version": 3
   },
   "file_extension": ".py",
   "mimetype": "text/x-python",
   "name": "python",
   "nbconvert_exporter": "python",
   "pygments_lexer": "ipython3",
   "version": "3.11.5"
  }
 },
 "nbformat": 4,
 "nbformat_minor": 5
}
